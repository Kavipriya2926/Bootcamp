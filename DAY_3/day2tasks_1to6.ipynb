{
 "cells": [
  {
   "cell_type": "code",
   "execution_count": 5,
   "id": "b3122e4d-affe-4b9d-9f1a-02d738c161fb",
   "metadata": {},
   "outputs": [
    {
     "name": "stdout",
     "output_type": "stream",
     "text": [
      "Buddy says: Woof! Woof!\n",
      "Buddy is sleeping... Zzz\n"
     ]
    }
   ],
   "source": [
    "#task1\n",
    "\n",
    "class Dog:\n",
    "    def __init__(self, name, age):\n",
    "        self.name = name\n",
    "        self.age = age\n",
    "\n",
    "    def bark(self):\n",
    "        return f\"{self.name} says: Woof! Woof!\"\n",
    "\n",
    "    def sleep(self):\n",
    "        return f\"{self.name} is sleeping... Zzz\"\n",
    "\n",
    "\n",
    "dog1 = Dog(\"Buddy\", 3)\n",
    "\n",
    "\n",
    "print(dog1.bark())   \n",
    "print(dog1.sleep())  \n"
   ]
  },
  {
   "cell_type": "code",
   "execution_count": 9,
   "id": "7d165f5c-9fbc-4262-92db-efd02bf316c2",
   "metadata": {},
   "outputs": [
    {
     "name": "stdout",
     "output_type": "stream",
     "text": [
      "Dog Name: Max\n",
      "Dog Age: 4\n",
      "Max says: Woof! Woof!\n",
      "Max is sleeping... Zzz\n"
     ]
    }
   ],
   "source": [
    "#task2\n",
    "\n",
    "class Dog:\n",
    "    def __init__(self, name, age):\n",
    "        self.name = name  \n",
    "        self.age = age    # Initializing age attribute\n",
    "\n",
    "    def bark(self):\n",
    "        return f\"{self.name} says: Woof! Woof!\"\n",
    "\n",
    "    def sleep(self):\n",
    "        return f\"{self.name} is sleeping... Zzz\"\n",
    "\n",
    "\n",
    "dog1 = Dog(\"Max\", 4)\n",
    "\n",
    "\n",
    "print(f\"Dog Name: {dog1.name}\")  \n",
    "print(f\"Dog Age: {dog1.age}\")    \n",
    "\n",
    "\n",
    "print(dog1.bark())   \n",
    "print(dog1.sleep())  \n"
   ]
  },
  {
   "cell_type": "code",
   "execution_count": 15,
   "id": "c9ae2041-422e-4fb9-9c2e-718bd075eb76",
   "metadata": {},
   "outputs": [
    {
     "name": "stdout",
     "output_type": "stream",
     "text": [
      "Charlie says: Woof! Woof!\n",
      "Charlie is sleeping... Zzz\n",
      "Charlie is playing with ball!\n"
     ]
    }
   ],
   "source": [
    "#task3\n",
    "\n",
    "class Dog:\n",
    "    def __init__(self, name, age):\n",
    "        self.name = name\n",
    "        self.age = age\n",
    "\n",
    "    def bark(self):\n",
    "        return f\"{self.name} says: Woof! Woof!\"\n",
    "\n",
    "    def sleep(self):\n",
    "        return f\"{self.name} is sleeping... Zzz\"\n",
    "\n",
    "\n",
    "class Puppy(Dog):\n",
    "    def __init__(self, name, age, favorite_toy):\n",
    "        super().__init__(name, age) \n",
    "        self.favorite_toy = favorite_toy \n",
    "\n",
    "    def play(self):\n",
    "        return f\"{self.name} is playing with {self.favorite_toy}!\"\n",
    "\n",
    "\n",
    "puppy1 = Puppy(\"Charlie\", 1, \"ball\")\n",
    "\n",
    "\n",
    "print(puppy1.bark())  \n",
    "print(puppy1.sleep())  \n",
    "print(puppy1.play())   \n"
   ]
  },
  {
   "cell_type": "code",
   "execution_count": 17,
   "id": "78c4881c-3ce9-4bcc-a641-a86daa4afab9",
   "metadata": {},
   "outputs": [
    {
     "name": "stdout",
     "output_type": "stream",
     "text": [
      "Max says: Woof! Woof!\n",
      "Max is sleeping... Zzz\n",
      "Meow! Meow!\n",
      "Climbing a tree!\n",
      "Max is a Golden hybrid, aged 2.\n"
     ]
    }
   ],
   "source": [
    "#task 4\n",
    "\n",
    "class Dog:\n",
    "    def __init__(self, name, age):\n",
    "        self.name = name\n",
    "        self.age = age\n",
    "\n",
    "    def bark(self):\n",
    "        return f\"{self.name} says: Woof! Woof!\"\n",
    "\n",
    "    def sleep(self):\n",
    "        return f\"{self.name} is sleeping... Zzz\"\n",
    "\n",
    "class Cat:\n",
    "    def __init__(self, color):\n",
    "        self.color = color\n",
    "\n",
    "    def meow(self):\n",
    "        return \"Meow! Meow!\"\n",
    "\n",
    "    def climb(self):\n",
    "        return \"Climbing a tree!\"\n",
    "\n",
    "\n",
    "class Hybrid(Dog, Cat):\n",
    "    def __init__(self, name, age, color):\n",
    "        Dog.__init__(self, name, age) \n",
    "        Cat.__init__(self, color)      \n",
    "\n",
    "    def show_traits(self):\n",
    "        return f\"{self.name} is a {self.color} hybrid, aged {self.age}.\"\n",
    "\n",
    "\n",
    "hybrid1 = Hybrid(\"Max\", 2, \"Golden\")\n",
    "\n",
    "\n",
    "print(hybrid1.bark())        \n",
    "print(hybrid1.sleep())       \n",
    "print(hybrid1.meow())        \n",
    "print(hybrid1.climb())       \n",
    "print(hybrid1.show_traits()) \n"
   ]
  },
  {
   "cell_type": "code",
   "execution_count": 19,
   "id": "d759748d-7566-4963-816e-3120e70956a0",
   "metadata": {},
   "outputs": [
    {
     "name": "stdout",
     "output_type": "stream",
     "text": [
      "Robot Name: Robo-X\n",
      "Robot Model: X100\n",
      "Robo-X's energy level is 50%.\n",
      "Robo-X charged to 80%.\n"
     ]
    }
   ],
   "source": [
    "#task5\n",
    "\n",
    "class Robot:\n",
    "    def __init__(self, name, model, energy_level):\n",
    "        self.name = name           \n",
    "        self._model = model        \n",
    "        self.__energy_level = energy_level  \n",
    "\n",
    "    def get_energy_level(self):\n",
    "        \"\"\"Public method to access private attribute.\"\"\"\n",
    "        return f\"{self.name}'s energy level is {self.__energy_level}%.\"\n",
    "\n",
    "    def charge(self, amount):\n",
    "        \"\"\"Method to modify the private attribute safely.\"\"\"\n",
    "        self.__energy_level = min(100, self.__energy_level + amount)\n",
    "        return f\"{self.name} charged to {self.__energy_level}%.\"\n",
    "\n",
    "\n",
    "robot1 = Robot(\"Robo-X\", \"X100\", 50)\n",
    "\n",
    "\n",
    "print(f\"Robot Name: {robot1.name}\")  \n",
    "\n",
    "\n",
    "print(f\"Robot Model: {robot1._model}\")  \n",
    "\n",
    "\n",
    "print(robot1.get_energy_level()) \n",
    "\n",
    "\n",
    "print(robot1.charge(30)) "
   ]
  },
  {
   "cell_type": "code",
   "execution_count": null,
   "id": "02b88aca-d4a3-4de1-b104-62d1e63c892c",
   "metadata": {},
   "outputs": [],
   "source": [
    "#task6\n",
    "\n",
    "\n",
    "class Animal:\n",
    "    def speak(self):\n",
    "        \"\"\"Method to be overridden by subclasses\"\"\"\n",
    "        return \"Animal makes a sound.\"\n",
    "\n",
    "\n",
    "class Dog(Animal):\n",
    "    def speak(self):\n",
    "        return \"Woof! Woof!\"\n",
    "\n",
    "\n",
    "class Cat(Animal):\n",
    "    def speak(self):\n",
    "        return \"Meow! Meow!\"\n",
    "\n",
    "\n",
    "dog1 = Dog()\n",
    "cat1 = Cat()\n",
    "\n",
    "# Calling speak() method on both objects\n",
    "print(dog1.speak())  # Output: Woof! Woof!\n",
    "print(cat1.speak())  # Output: Meow! Meow!\n"
   ]
  }
 ],
 "metadata": {
  "kernelspec": {
   "display_name": "Python 3 (ipykernel)",
   "language": "python",
   "name": "python3"
  },
  "language_info": {
   "codemirror_mode": {
    "name": "ipython",
    "version": 3
   },
   "file_extension": ".py",
   "mimetype": "text/x-python",
   "name": "python",
   "nbconvert_exporter": "python",
   "pygments_lexer": "ipython3",
   "version": "3.12.4"
  }
 },
 "nbformat": 4,
 "nbformat_minor": 5
}
